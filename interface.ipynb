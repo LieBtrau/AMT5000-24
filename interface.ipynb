{
 "cells": [
  {
   "cell_type": "markdown",
   "metadata": {},
   "source": [
    "# Input protection\n",
    "\n",
    "## LM73100  Integrated Ideal Diode with Input Reverse Polarity and Overvoltage Protection"
   ]
  },
  {
   "cell_type": "code",
   "execution_count": null,
   "metadata": {},
   "outputs": [
    {
     "name": "stdout",
     "output_type": "stream",
     "text": [
      "R1/R3 ratio: 8.22\n",
      "R2: 121295.77 ohm\n",
      "R2: 121224.49 ohm\n",
      "Vin_uv: 4.75 V\n",
      "Vin_ov: 13.22 V\n",
      "Vin_uvm: 4.20 V\n"
     ]
    }
   ],
   "source": [
    "Vovlo = 1.2\n",
    "Vuvlo = 1.2\n",
    "Vin_ov = 13.2\n",
    "Vin_uv = 4.75\n",
    "\n",
    "R1_R3_ratio = Vin_ov / (Vovlo  * (1+ Vuvlo / (Vin_uv - Vuvlo)) )\n",
    "print(\"R1/R3 ratio: %.2f\" % R1_R3_ratio)\n",
    "\n",
    "R1 = 560e3\n",
    "R3 = 68e3\n",
    "\n",
    "R2 = R1 * Vuvlo / (Vin_uv - Vuvlo) - R3\n",
    "print(\"R2: %.2f ohm\" % R2)\n",
    "\n",
    "R21 = 220e3\n",
    "R22 = 270e3\n",
    "R2 = (R21 * R22) / (R21 + R22)\n",
    "\n",
    "print(\"R2: %.2f ohm\" % R2)\n",
    "\n",
    "# Nominal values\n",
    "Vin_uv = Vuvlo * (R1 + R2 + R3) / (R2+R3)\n",
    "print(\"Vin_uv: %.2f V\" % Vin_uv)\n",
    "Vin_ov = Vovlo * (R1 + R2 + R3) / R3\n",
    "print(\"Vin_ov: %.2f V\" % Vin_ov)"
   ]
  },
  {
   "cell_type": "markdown",
   "metadata": {},
   "source": [
    "Worst case values can be calculated as well.  These should take into account 1% tolerance on the resistors and leakage current on the sensing pin."
   ]
  },
  {
   "cell_type": "code",
   "execution_count": null,
   "metadata": {},
   "outputs": [
    {
     "name": "stdout",
     "output_type": "stream",
     "text": [
      "R: 5555.56 ohm\n"
     ]
    }
   ],
   "source": [
    "# Current monitoring output\n",
    "\n",
    "Vmax = 1.5 # V\n",
    "Imax = 1.5 # A, only 750 mA is used\n",
    "G = 180e-6 # A/V\n",
    "R = Vmax / (Imax * G )\n",
    "print(\"R: %.2f ohm\" % R)"
   ]
  },
  {
   "cell_type": "code",
   "execution_count": 17,
   "metadata": {},
   "outputs": [
    {
     "name": "stdout",
     "output_type": "stream",
     "text": [
      "ratio_R4_R5: 3.17\n"
     ]
    }
   ],
   "source": [
    "# Power good indicator\n",
    "\n",
    "Vpg = 5# V\n",
    "Vpg_th = 1.2\n",
    "ratio_R4_R5 = Vpg/Vpg_th - 1\n",
    "print(\"ratio_R4_R5: %.2f\" % ratio_R4_R5)"
   ]
  }
 ],
 "metadata": {
  "kernelspec": {
   "display_name": "Python 3",
   "language": "python",
   "name": "python3"
  },
  "language_info": {
   "codemirror_mode": {
    "name": "ipython",
    "version": 3
   },
   "file_extension": ".py",
   "mimetype": "text/x-python",
   "name": "python",
   "nbconvert_exporter": "python",
   "pygments_lexer": "ipython3",
   "version": "3.10.5"
  }
 },
 "nbformat": 4,
 "nbformat_minor": 2
}
