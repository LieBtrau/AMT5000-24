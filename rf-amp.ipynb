{
 "cells": [
  {
   "cell_type": "markdown",
   "metadata": {},
   "source": [
    "# Calculation\n",
    "A lot of the design work has been done in the [Zombocalyps-project](https://github.com/LieBtrau/zombocalypse-emcomms/blob/main/amplifier/amplifier.ipynb)."
   ]
  },
  {
   "cell_type": "code",
   "execution_count": 20,
   "metadata": {},
   "outputs": [
    {
     "name": "stdout",
     "output_type": "stream",
     "text": [
      "L1min: 29.46 uH\n",
      "Maximum value for C1+Coss: 74.82 pF\n",
      "Breakdown voltage of the MOSFET: 59.81 V\n",
      "Peak MOSFET current: 0.59 A\n",
      "MOSFET conduction losses: 0.01 W\n",
      "Gate driver losses: 0.11 W\n"
     ]
    }
   ],
   "source": [
    "import math\n",
    "f = 13.56e6 # Switching frequency [Hz]\n",
    "Pout = 5 # Output power [W]\n",
    "Vdd = 12 # Supply voltage [V]\n",
    "Vcc = 3.3 # Gate driver voltage [V]\n",
    "\n",
    "# MOSFET parameters\n",
    "# IRLML2060TRPBF\n",
    "Qg = 0.67e-9 # Gate charge [C], from MOSFET datasheet\n",
    "Rds_on = 0.64 # On-resistance of the MOSFET [Ohm], from MOSFET datasheet\n",
    "\n",
    "# IRLML0060TRPBF\n",
    "Qg = 2.5e-9 # Gate charge [C], from MOSFET datasheet\n",
    "Rds_on = 0.116 # On-resistance of the MOSFET [Ohm], from MOSFET datasheet\n",
    "\n",
    "# Input impedance of the matching network (Infineon AN-1803, eq. 13)\n",
    "Z_tx_in = Vdd**2 / Pout # Input impedance of the matching network [Ohm]\n",
    "\n",
    "# L1min (Infineon AN-1803, eq. 13)\n",
    "L1_min = (math.pi**2 + 4) * Z_tx_in / f # [H]\n",
    "print(f\"L1min: {L1_min*1e6:.2f} uH\")\n",
    "\n",
    "# Maximum value for C1+Coss (Infineon AN-1803, eq. 20)\n",
    "C1_Coss = 0.1836 / (2*math.pi*f*Z_tx_in) # [F]\n",
    "print(f\"Maximum value for C1+Coss: {C1_Coss*1e12:.2f} pF\")\n",
    "\n",
    "# Breakdown voltage of the MOSFET (Infineon AN-1803, eq. 19)\n",
    "Vbr_dss = 3.56 * Vdd * 1.4 # [V], 40% safety margin\n",
    "print(f\"Breakdown voltage of the MOSFET: {Vbr_dss:.2f} V\")\n",
    "\n",
    "# Peak MOSFET current (Infineon AN-1803, eq. 22)\n",
    "I_rms = math.sqrt(Pout / Z_tx_in) # [A]\n",
    "I_peak = math.sqrt(2) * I_rms # [A]\n",
    "print(f\"Peak MOSFET current: {I_peak:.2f} A\")\n",
    "\n",
    "# MOSFET conduction losses (Infineon AN-1803, eq. 23)\n",
    "P_nmos = (I_rms/2)**2 * Rds_on # [W]\n",
    "print(f\"MOSFET conduction losses: {P_nmos:.2f} W\")\n",
    "\n",
    "# Gate driver losses (Infineon AN-1803, eq. 24)\n",
    "Pgate = Vcc * Qg * f # [W]\n",
    "print(f\"Gate driver losses: {Pgate:.2f} W\")\n"
   ]
  },
  {
   "cell_type": "markdown",
   "metadata": {},
   "source": [
    "## Advice from the Infineon AN_1803 application note\n",
    "<img src=\"./images/principle_schematic_class_E.png\" width=\"500px\"/>\n",
    "\n",
    "1. Keep the impedance of L2 and C2 as low as possible to minimize the losses.\n",
    "2. Q must be > 2.5\n",
    "3. Check voltage range and current for C2 -> high voltage NP0 or C0G capacitor\n",
    "4. In correctly tuned operation Vds = 3.56 * Vdd.  Incorrectly tuned operation can lead spikes up to 7 * Vdd.  Protect your transistor against that.\n",
    "5. Keep Coss low.  Transistor with high Vds breakdown voltage have higher Coss.\n",
    "6. Choose C1 >> Coss, because Coss is Vds dependent.\n",
    "7. Coss should be as flat as possible over the Vds range.\n",
    "7. Most of the loss occurs in the gate driver.  Lower Qg is more important than lower Rds_on."
   ]
  },
  {
   "cell_type": "markdown",
   "metadata": {},
   "source": [
    "# Transistor selection\n",
    "* FET-type : N-channel\n",
    "* Vdss > Vdd * 3.56 * 1.4 (safety factor) = 60V\n",
    "* Id > Id_max * 1.4 (safety factor) = 1.68A -> 2A (Id_max from simulation is 1.2A.)\n",
    "* Rds_on < 0.3 Ohm at Vgs = 4.5V and Id = 2A\n",
    "* Vgs < 2.5V\n",
    "* Qg < 4nC\n",
    "* Cost < €1\n",
    "* Availability : JLCPB\n",
    "* Package : SOT-23 or similar\n",
    "* Coss @ 10V < 160pF (Coss_max from simulation is << 160pF.)\n",
    "\n",
    "## Candidates\n",
    "| Part Number       | Coss [pF] | Vgs [V]     | Qg [nC]    | Rds_on [mOhm]  | Availability          |\n",
    "|-------------------|-----------|-------------|------------|----------------|-----------------------|\n",
    "| IRLML2060TRPBF    | 18        | 1.0-2.5     | 0.67       | 640            | JLCPCB : OK           |\n",
    "| IRLML0060TRPBF    | 50        | 1.0-2.5     | 2.5        | 116            | JLCPCB : OK           |\n",
    "| SQ2364EES-T1_GE3  | 40        | 0.46-1.0    | 2-2.5      | 245            | JLCPCB : OK           |\n",
    "| SI2324A           | 25        | 1.0-2.0     | 4          | 300            | JLCPCB : OK           |\n",
    "| RQ5L020SNTL       | 50        | 1.0-2.5     | 2.7        | -              | not available at JLCPCB|\n",
    "| RSR020N06         | 50        | 1.0-2.5     | 2.7        | -              | not available at JLCPCB|"
   ]
  },
  {
   "cell_type": "code",
   "execution_count": 16,
   "metadata": {},
   "outputs": [
    {
     "name": "stdout",
     "output_type": "stream",
     "text": [
      "Turn-on delay: 309.51 ps\n",
      "Turn-off delay: 218.59 ps\n",
      "Turn-off delay (alternative method): 261.32 ps\n"
     ]
    }
   ],
   "source": [
    "import math\n",
    "Vgs = 5 # Gate-source voltage [V]\n",
    "\n",
    "# IRLML0100\n",
    "Rg = 1.3 # Internal gate resistance [Ohm], add output resistance of the driver here\n",
    "Ciss = 290e-12 # Input capacitance [F], at Vds=0V (see datasheet, fig.5)\n",
    "Vth = 2.5 # Threshold voltage [V]\n",
    "Vgp = 2.8 # Miller plateau voltage [V] (it's the value of the horizontal line in the gate charge curves in the datasheet, fig.6)\n",
    "\n",
    "# Turn-on delay\n",
    "td_on = Rg * Ciss * math.log(Vgs/(Vgs-Vgp)) # t2, eq. 12 = t1 + t_ir = eq. 11 + eq. 17\n",
    "print(f\"Turn-on delay: {td_on*1e12:.2f} ps\")\n",
    "\n",
    "# Turn-off delay\n",
    "td_off = Rg * Ciss * math.log(Vgs/Vgp) # t4, eq. 14\n",
    "print(f\"Turn-off delay: {td_off*1e12:.2f} ps\")\n",
    "\n",
    "# Turn-off delay (alternative method)\n",
    "td_off = Rg * Ciss * math.log(Vgs/(Vth)) # t4 + t6, eq. 14 + eq. 16\n",
    "print(f\"Turn-off delay (alternative method): {td_off*1e12:.2f} ps\")"
   ]
  },
  {
   "cell_type": "markdown",
   "metadata": {},
   "source": [
    "\n",
    "\n",
    "## Inductor criteria\n",
    "Use smallest inductor value possible to minimize core loss.\n",
    "* DC resistance\n",
    "* AC resistance (skin effect, proximity effect)\n",
    "* core loss (frequency dependent) : iron powder core"
   ]
  },
  {
   "cell_type": "markdown",
   "metadata": {},
   "source": [
    "# Protection circuitry\n",
    "see Infineon AN_1803, fig. 29.\n",
    "\n",
    "# References\n",
    "* [FesZ Electronics : Class E RF amplifier - Basics (1/3)](https://www.youtube.com/watch?v=Tgrakttus3c)\n",
    "* [Class-E power amplifier design for wireless power transfer, Infineon AN_1803_PL16_1803_210431](https://www.infineon.com/dgdl/Infineon-Wireless_power_transfer_class_E_power_amp-AN-v01_02-EN.pdf)"
   ]
  }
 ],
 "metadata": {
  "kernelspec": {
   "display_name": "Python 3",
   "language": "python",
   "name": "python3"
  },
  "language_info": {
   "codemirror_mode": {
    "name": "ipython",
    "version": 3
   },
   "file_extension": ".py",
   "mimetype": "text/x-python",
   "name": "python",
   "nbconvert_exporter": "python",
   "pygments_lexer": "ipython3",
   "version": "3.10.5"
  }
 },
 "nbformat": 4,
 "nbformat_minor": 2
}
