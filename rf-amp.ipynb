{
 "cells": [
  {
   "cell_type": "markdown",
   "metadata": {},
   "source": [
    "# Calculation\n",
    "A lot of the design work has been done in the [Zombocalyps-project](https://github.com/LieBtrau/zombocalypse-emcomms/blob/main/amplifier/amplifier.ipynb).\n",
    "\n",
    "## Advice from the Infineon AN_1803 application note\n",
    "<img src=\"./images/principle_schematic_class_E.png\" width=\"500px\"/>\n",
    "\n",
    "1. Keep the impedance of L2 and C2 as low as possible to minimize the losses.\n",
    "2. Q must be > 2.5\n",
    "3. Check voltage range and current for C2 -> high voltage NP0 or C0G capacitor\n",
    "4. In correctly tuned operation Vds = 3.56 * Vdd.  Incorrectly tuned operation can lead spikes up to 7 * Vdd.  Protect your transistor against that.\n",
    "5. Keep Coss low.  Transistor with high Vds breakdown voltage have higher Coss.\n",
    "6. Choose C1 >> Coss, because Coss is Vds dependent."
   ]
  },
  {
   "cell_type": "markdown",
   "metadata": {},
   "source": [
    "# Transistor selection\n",
    "* FET-type : N-channel\n",
    "* Vdss > Vdd * 3.56 * 1.4 (safety factor) = 60V\n",
    "* Id > Id_max * 1.4 (safety factor) = 1.68A -> 2A (Id_max from simulation is 1.2A.)\n",
    "* Rds_on < 0.3 Ohm at Vgs = 4.5V and Id = 2A\n",
    "* Vgs < 2.5V\n",
    "* Qg < 4nC\n",
    "* Cost < €1\n",
    "* Availability : JLCPB\n",
    "* Package : SOT-23 or similar\n",
    "* Coss @ 10V < 160pF (Coss_max from simulation is << 160pF.)\n",
    "\n",
    "## Candidates\n",
    "| Part Number       | Coss [pF] | Vgs [V]     | Qg [nC]    | Rds_on [mOhm]  | Availability          |\n",
    "|-------------------|-----------|-------------|------------|----------------|-----------------------|\n",
    "| IRLML0060TRPBF    | 50        | 1.0-2.5     | 2.5        | 116            | JLCPCB : OK           |\n",
    "| SQ2364EES-T1_GE3  | 40        | 0.46-1.0    | 2-2.5      | 245            | JLCPCB : OK           |\n",
    "| RQ5L020SNTL       | 50        | 1.0-2.5     | 2.7        | -              | not available at JLCPCB|\n",
    "| RSR020N06         | 50        | 1.0-2.5     | 2.7        | -              | not available at JLCPCB|"
   ]
  },
  {
   "cell_type": "code",
   "execution_count": 1,
   "metadata": {},
   "outputs": [
    {
     "name": "stdout",
     "output_type": "stream",
     "text": [
      "Turn-on delay: 309.51 ps\n",
      "Turn-off delay: 218.59 ps\n",
      "Turn-off delay (alternative method): 261.32 ps\n",
      "Maximum value for C1+Coss: 143.66 pF\n"
     ]
    }
   ],
   "source": [
    "import math\n",
    "Vgs = 5 # Gate-source voltage [V]\n",
    "\n",
    "# IRLML0100\n",
    "Rg = 1.3 # Internal gate resistance [Ohm], add output resistance of the driver here\n",
    "Ciss = 290e-12 # Input capacitance [F], at Vds=0V (see datasheet, fig.5)\n",
    "Vth = 2.5 # Threshold voltage [V]\n",
    "Vgp = 2.8 # Miller plateau voltage [V] (it's the value of the horizontal line in the gate charge curves in the datasheet, fig.6)\n",
    "\n",
    "# Turn-on delay\n",
    "td_on = Rg * Ciss * math.log(Vgs/(Vgs-Vgp)) # t2, eq. 12 = t1 + t_ir = eq. 11 + eq. 17\n",
    "print(f\"Turn-on delay: {td_on*1e12:.2f} ps\")\n",
    "\n",
    "# Turn-off delay\n",
    "td_off = Rg * Ciss * math.log(Vgs/Vgp) # t4, eq. 14\n",
    "print(f\"Turn-off delay: {td_off*1e12:.2f} ps\")\n",
    "\n",
    "# Turn-off delay (alternative method)\n",
    "td_off = Rg * Ciss * math.log(Vgs/(Vth)) # t4 + t6, eq. 14 + eq. 16\n",
    "print(f\"Turn-off delay (alternative method): {td_off*1e12:.2f} ps\")\n",
    "\n",
    "# Maximum value for C1+Coss (Infineon AN-1803, eq. 20)\n",
    "f = 13.56e6 # Switching frequency [Hz]\n",
    "Z_tx_in = 15 # Input impedance of the matching network [Ohm]\n",
    "C1_Coss = 0.1836 / (2*math.pi*f*Z_tx_in) # [F]\n",
    "print(f\"Maximum value for C1+Coss: {C1_Coss*1e12:.2f} pF\")\n"
   ]
  },
  {
   "cell_type": "markdown",
   "metadata": {},
   "source": [
    "\n",
    "\n",
    "## Inductor criteria\n",
    "Use smallest inductor value possible to minimize core loss.\n",
    "* DC resistance\n",
    "* AC resistance (skin effect, proximity effect)\n",
    "* core loss (frequency dependent)"
   ]
  },
  {
   "cell_type": "markdown",
   "metadata": {},
   "source": [
    "# References\n",
    "* [FesZ Electronics : Class E RF amplifier - Basics (1/3)](https://www.youtube.com/watch?v=Tgrakttus3c)\n",
    "* [Class-E power amplifier design for wireless power transfer, Infineon AN_1803_PL16_1803_210431](https://www.infineon.com/dgdl/Infineon-Wireless_power_transfer_class_E_power_amp-AN-v01_02-EN.pdf)"
   ]
  }
 ],
 "metadata": {
  "kernelspec": {
   "display_name": "Python 3",
   "language": "python",
   "name": "python3"
  },
  "language_info": {
   "codemirror_mode": {
    "name": "ipython",
    "version": 3
   },
   "file_extension": ".py",
   "mimetype": "text/x-python",
   "name": "python",
   "nbconvert_exporter": "python",
   "pygments_lexer": "ipython3",
   "version": "3.10.5"
  }
 },
 "nbformat": 4,
 "nbformat_minor": 2
}
