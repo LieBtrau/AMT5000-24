{
 "cells": [
  {
   "cell_type": "markdown",
   "metadata": {},
   "source": [
    "# Class-E amplifier\n",
    "\n",
    "* Switching amplifier\n",
    "* High efficiency\n",
    "* Single switching element\n",
    "\n",
    "# Calculation\n",
    "A lot of the design work has been done in the [Zombocalyps-project](https://github.com/LieBtrau/zombocalypse-emcomms/blob/main/amplifier/amplifier.ipynb).\n",
    "\n",
    "# Part selection\n",
    "## Transistor\n",
    "### Transistor criteria\n",
    "* breakdown voltage (Vds) > 7x supply voltage\n",
    "* Switching energy = gate charge * gate voltage\n",
    "* ON resistance\n",
    "\n",
    "### Transistor parameters\n",
    "So what's more important : total gate charge, Ciss, turn-on delay, rise time, fall time, turn-off delay?\n",
    "\n",
    "* Rise time and fall time are 0s, because it's a class-E amplifier, Vds is always 0V at the transition\n",
    "* Transistor turn-on speed is determined by : driver strength (should have low output impedance) and total gate charge of the transistor.\n",
    "* Energy required for switching is the product of the gate charge and the gate voltage. \n",
    "* It doesn't make much sense to drive the gate higher than the miller plateau.\n",
    "* [Total gate charge and Vgs_th are more important than Ciss as selection criteria](https://www.infineon.com/dgdl/Infineon-Use_Gate_Charge_to_Design_the_Gate_Drive_Circuit_for_Power_MOSFETs_and_IGBTs-AN-v01_00-EN.pdf).\n",
    "\n",
    "### Reference\n",
    "[AN608A Power MOSFET Basics: Understanding Gate Charge and Using it to Assess Switching Performance](https://www.vishay.com/docs/73217/an608a.pdf)\n",
    "\n",
    "### Selection\n",
    "Digikey engine seems to be broken, so I'll use Mouser instead:\n",
    "* Mounting style: SMD\n",
    "* Number of channels: 1\n",
    "* Transistor polarity: N-channel\n",
    "* Vds breakdown : >= 100V (> 7x supply voltage)\n",
    "* Rds_on : <= 0.3 Ohm\n",
    "* Vgs_th : <= 2V\n",
    "* Qg gate charge : <= 5nC\n",
    "\n",
    "Sort the results by Vgs_th.  Then multiply the gate charge by the gate voltage to get the switching energy.  The lower the better.\n",
    "1. **IRLML0100TRPBF**\n",
    "2. SI3474DV-T1-BE3\n",
    "3. SSM3K361"
   ]
  },
  {
   "cell_type": "code",
   "execution_count": 22,
   "metadata": {},
   "outputs": [
    {
     "name": "stdout",
     "output_type": "stream",
     "text": [
      "Turn-on delay: 309.51 ps\n",
      "Turn-off delay: 218.59 ps\n",
      "Turn-off delay (alternative method): 261.32 ps\n"
     ]
    }
   ],
   "source": [
    "import math\n",
    "Vgs = 5 # Gate-source voltage [V]\n",
    "\n",
    "# IRLML0100\n",
    "Rg = 1.3 # Internal gate resistance [Ohm], add output resistance of the driver here\n",
    "Ciss = 290e-12 # Input capacitance [F], at Vds=0V (see datasheet, fig.5)\n",
    "Vth = 2.5 # Threshold voltage [V]\n",
    "Vgp = 2.8 # Miller plateau voltage [V] (it's the value of the horizontal line in the gate charge curves in the datasheet, fig.6)\n",
    "\n",
    "# Turn-on delay\n",
    "td_on = Rg * Ciss * math.log(Vgs/(Vgs-Vgp)) # t2, eq. 12 = t1 + t_ir = eq. 11 + eq. 17\n",
    "print(f\"Turn-on delay: {td_on*1e12:.2f} ps\")\n",
    "\n",
    "# Turn-off delay\n",
    "td_off = Rg * Ciss * math.log(Vgs/Vgp) # t4, eq. 14\n",
    "print(f\"Turn-off delay: {td_off*1e12:.2f} ps\")\n",
    "\n",
    "# Turn-off delay (alternative method)\n",
    "td_off = Rg * Ciss * math.log(Vgs/(Vth)) # t4 + t6, eq. 14 + eq. 16\n",
    "print(f\"Turn-off delay (alternative method): {td_off*1e12:.2f} ps\")\n"
   ]
  },
  {
   "cell_type": "markdown",
   "metadata": {},
   "source": [
    "\n",
    "\n",
    "## Inductor criteria\n",
    "Use smallest inductor value possible to minimize core loss.\n",
    "* DC resistance\n",
    "* AC resistance (skin effect, proximity effect)\n",
    "* core loss (frequency dependent)"
   ]
  },
  {
   "cell_type": "markdown",
   "metadata": {},
   "source": [
    "# References\n",
    "* [FesZ Electronics : Class E RF amplifier - Basics (1/3)](https://www.youtube.com/watch?v=Tgrakttus3c)"
   ]
  }
 ],
 "metadata": {
  "kernelspec": {
   "display_name": "Python 3",
   "language": "python",
   "name": "python3"
  },
  "language_info": {
   "codemirror_mode": {
    "name": "ipython",
    "version": 3
   },
   "file_extension": ".py",
   "mimetype": "text/x-python",
   "name": "python",
   "nbconvert_exporter": "python",
   "pygments_lexer": "ipython3",
   "version": "3.10.5"
  }
 },
 "nbformat": 4,
 "nbformat_minor": 2
}
