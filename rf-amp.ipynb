{
 "cells": [
  {
   "cell_type": "markdown",
   "metadata": {},
   "source": [
    "# Class-E amplifier\n",
    "\n",
    "* Switching amplifier\n",
    "* High efficiency\n",
    "* Single switching element"
   ]
  }
 ],
 "metadata": {
  "language_info": {
   "name": "python"
  }
 },
 "nbformat": 4,
 "nbformat_minor": 2
}
