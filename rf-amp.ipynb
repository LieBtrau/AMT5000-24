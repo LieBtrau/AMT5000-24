{
 "cells": [
  {
   "cell_type": "markdown",
   "metadata": {},
   "source": [
    "# Calculation\n",
    "A lot of the design work has been done in the [Zombocalyps-project](https://github.com/LieBtrau/zombocalypse-emcomms/blob/main/amplifier/amplifier.ipynb)."
   ]
  },
  {
   "cell_type": "markdown",
   "metadata": {},
   "source": [
    "## Class E amplifier filter topology\n",
    "The most common way is to use a LC-series band pass filter followed by a notch filter.  The notch-filter is either a T-match or a Pi-match filter. The notch filter is used to remove the second harmonic from the output signal. \n",
    "The T-match filter requires larger inductors, which lead to more losses.\n",
    "\n",
    "There are two ways to design the filter: either using the KD9PDP method or the NM0S method. \n",
    "\n",
    "Both approaches yield approximate component values.  Simulation is required to fine-tune the filter.  The [Class-E RF Power Amplifiers, Nathan O. Sokal (WA1HQC)](https://people.physics.anu.edu.au/~dxt103/160m/class_E_amplifier_design.pdf) paper explains what capacitor values to tweak based on the voltage waveforms of the drain of the MOSFET.\n",
    "\n",
    "### KD9PDP LC-series band pass filter with Pi-match notch-filter\n",
    "<img src=\"./images/class_e_pi_filter.png\" width=\"500\"/>\n",
    "\n",
    "From [Search for the Minimalist QRP Class E Amplifier Filter Typology, Scott Howard (KD9PDP)](https://raw.githubusercontent.com/KD9PDP/Minimalist-Class-E/master/PDF/minimalist_class_e.pdf)\n"
   ]
  },
  {
   "cell_type": "code",
   "execution_count": 23,
   "metadata": {},
   "outputs": [
    {
     "name": "stdout",
     "output_type": "stream",
     "text": [
      "Q = 4.53\n",
      "Rl = 16.70 Ohm\n",
      "L1 = 0.56 uH\n",
      "C1 = 129.01 pF\n",
      "Cf = 155.11 pF\n",
      "Ltot = 1.11 uH\n",
      "C2 = 1075.03 pF\n",
      "L2 = 0.20 uH\n",
      "C4 = 172.73 pF\n",
      "C3 = 704.23 pF\n"
     ]
    }
   ],
   "source": [
    "# Calculations for LC-series band pass filter with Pi-match notch-filter according to KD9PDP\n",
    "\n",
    "import math\n",
    "\n",
    "# Design parameters\n",
    "VCC = 12.0  # V\n",
    "Pout = 5   # W\n",
    "f = 13.56e6   # Hz\n",
    "R1 = 50    # Ohm\n",
    "\n",
    "Rl = 0.58 * VCC**2 / Pout  # Ohm, load seen by the MOSFET drain\n",
    "Q = 3 + math.sqrt(Rl/5 - 1)\n",
    "\n",
    "print(\"Q = %.2f\" % Q)\n",
    "print(\"Rl = %.2f Ohm\" % Rl)\n",
    "\n",
    "ω = 2*math.pi*f  # rad/s\n",
    "L1 = 2.84 * Rl / ω          # H, minimum value for L1\n",
    "C1 = 1 / (5.4466 * ω * Rl)  # F\n",
    "Cf = 1 / (Q * ω * Rl)      # F\n",
    "Ltot = (Q + 1.1525) * Rl / ω  # H\n",
    "C2 = (Q-3) / (ω * Rl)         # F\n",
    "L2 = 15 * Q / (4 * ω)       # H\n",
    "C4 = 1 / (15*Q*ω)        # F\n",
    "C3 = 3 / (50*ω)          # F\n",
    "\n",
    "print(\"L1 = %.2f uH\" % (L1*1e6))\n",
    "print(\"C1 = %.2f pF\" % (C1*1e12))\n",
    "print(\"Cf = %.2f pF\" % (Cf*1e12))\n",
    "print(\"Ltot = %.2f uH\" % (Ltot*1e6))\n",
    "print(\"C2 = %.2f pF\" % (C2*1e12))\n",
    "print(\"L2 = %.2f uH\" % (L2*1e6))\n",
    "print(\"C4 = %.2f pF\" % (C4*1e12))\n",
    "print(\"C3 = %.2f pF\" % (C3*1e12))"
   ]
  },
  {
   "cell_type": "markdown",
   "metadata": {},
   "source": [
    "After simulation, new values were found for C1 and Cf:\n",
    "* C1 : 129.01pF → 146pF\n",
    "* Cf : 155.11pF → 158pF"
   ]
  },
  {
   "cell_type": "markdown",
   "metadata": {},
   "source": [
    "### NM0S LC-series band pass filter with Pi-match notch-filter\n",
    "[Class E Power Amplifiers for QRP, David Cripe (NM0S)](http://www.amfone.net/Amforum/index.php?action=dlattach;topic=35824.0;attach=41753)\n",
    "\n",
    "<img src=\"./images/NM0S_Class-E.png\" width=\"500\"/>\n",
    "\n",
    "C1 must be mounted as close as possible to the transistor to reduce ringing due to the parasitic inductance of the traces.\n",
    "\n",
    "C1, C2 and L2 can be 10% tolerance. L1 and L3 should be 5% tolerance. \n",
    "C3, C4, C5 and L3 should be within 5% tolerance."
   ]
  },
  {
   "cell_type": "code",
   "execution_count": 24,
   "metadata": {},
   "outputs": [
    {
     "name": "stdout",
     "output_type": "stream",
     "text": [
      "C1 = 250.12 pF\n",
      "C2 = 987.31 pF\n",
      "L2 = 0.33 uH\n",
      "C3 = C5 = 555.89 pF\n",
      "C4 = 185.30 pF\n",
      "L3 = 0.19 uH\n",
      "L1 = 4.92 uH\n"
     ]
    }
   ],
   "source": [
    "import math\n",
    "P = 5  # W, desired output power\n",
    "B = 12 # V, supply voltage\n",
    "F = 13.56e6 # Hz, operating frequency\n",
    "\n",
    "Rds = 0.2 # Ohm, MOSFET on-resistance\n",
    "Coss = 0 # F, output capacitance of the MOSFET\n",
    "\n",
    "R = 0.32 * B**2 / P - 1.5 * Rds # Ohm, load resistance\n",
    "C1 = 0.19 / (2*math.pi*F*R) - Coss # F, shunt capacitance\n",
    "C2_min = 1 / (4 * math.pi * F * R) # series capacitance\n",
    "C2_max = 1 / (2 * math.pi * F * R) # series capacitance\n",
    "C2 = (C2_min + C2_max) / 2\n",
    "L2 = ( 1.8 * R + 1 / ( 2 * math.pi * F * C2 )) / ( 2 * math.pi * F )\n",
    "C3 = C5 = 1 / ( 2 * math.pi * F * math.sqrt(R*50))\n",
    "L3 = 0.75 * math.sqrt(R*50) / ( 2 * math.pi * F)\n",
    "C4 = C3 / 3\n",
    "L1 = 15 * L2\n",
    "\n",
    "print(\"C1 = %.2f pF\" % (C1*1e12))\n",
    "print(\"C2 = %.2f pF\" % (C2*1e12))\n",
    "print(\"L2 = %.2f uH\" % (L2*1e6))\n",
    "print(\"C3 = C5 = %.2f pF\" % (C3*1e12))\n",
    "print(\"C4 = %.2f pF\" % (C4*1e12))\n",
    "print(\"L3 = %.2f uH\" % (L3*1e6))\n",
    "print(\"L1 = %.2f uH\" % (L1*1e6))"
   ]
  },
  {
   "cell_type": "markdown",
   "metadata": {},
   "source": [
    "LTSpice simulation leads to the following component values changes:\n",
    "* C1 : 250.12pF → 307pF\n",
    "* C2 : 987.31pF → 690pF"
   ]
  },
  {
   "cell_type": "markdown",
   "metadata": {},
   "source": [
    "## Comparison of the two design approaches\n",
    "| Parameter | KD9PDP | NM0S |\n",
    "| --- | --- | --- |\n",
    "| Output power [W] | 4.57 | 7.93 |\n",
    "| Input current RMS [mA]| 394 | 670 |\n",
    "| Efficiency [%] | 96.6 | 98.6 |\n",
    "| C1 [pF] | 146 | 307 |\n",
    "| max. Vds [V] | 42 | 43 |\n",
    "| Vpp(C2) | 113 | 56 |\n",
    "| L2 [nH] | 1110| 330 |\n",
    "| I(L2) [mA] | 509 | 905 |\n",
    "| Vpp(C3) | 25 | 24.8 |\n",
    "| Vpp(C4) | 62 | 63 |\n",
    "| Vpp(C5) | 43 | 56 |\n",
    "| L3 [nH] | 200 | 190 |\n",
    "| I(L3) [mA] | 1300 | 1366 |\n",
    "\n",
    "## Conclusion\n",
    "We will use the NM0S design approach:\n",
    "* ✅ The output power is higher and it's easier to reach the 5W target.\n",
    "* ✅ Efficency is higher.\n",
    "* ✅ C1 is higher.  The unwanted effect of Coss, which varies with Vds, is reduced.\n",
    "* ✅ Peak to peak voltage over C2 is lower, which allows for a smaller capacitor.\n",
    "* ✅ The inductor L2 is smaller, which reduces losses.\n",
    "* ❌ The current through L2 is higher, which increases the losses.\n",
    "\n",
    "All other parameters are similar.  Both designs have harmonics below -43dBc."
   ]
  },
  {
   "cell_type": "markdown",
   "metadata": {},
   "source": [
    "## Advice from the Infineon AN_1803 application note\n",
    "<img src=\"./images/principle_schematic_class_E.png\" width=\"500px\"/>\n",
    "\n",
    "1. Keep the impedance of L2 and C2 as low as possible to minimize the losses.\n",
    "2. Q must be > 2.5\n",
    "3. Check voltage range and current for C2 -> high voltage NP0 or C0G capacitor\n",
    "4. In correctly tuned operation Vds = 3.56 * Vdd.  Incorrectly tuned operation can lead spikes up to 7 * Vdd.  Protect your transistor against that.\n",
    "5. Keep Coss low.  Transistor with high Vds breakdown voltage have higher Coss.\n",
    "6. Choose C1 >> Coss, because Coss is Vds dependent.\n",
    "7. Coss should be as flat as possible over the Vds range.\n",
    "7. Most of the loss occurs in the gate driver.  Lower Qg is more important than lower Rds_on."
   ]
  },
  {
   "cell_type": "code",
   "execution_count": 25,
   "metadata": {},
   "outputs": [
    {
     "name": "stdout",
     "output_type": "stream",
     "text": [
      "L1min: 29.46 uH\n",
      "Maximum value for C1+Coss: 74.82 pF\n",
      "Breakdown voltage of the MOSFET: 59.81 V\n",
      "Peak MOSFET current: 0.59 A\n",
      "MOSFET conduction losses: 0.01 W\n",
      "Gate driver losses: 0.11 W\n"
     ]
    }
   ],
   "source": [
    "import math\n",
    "f = 13.56e6 # Switching frequency [Hz]\n",
    "Pout = 5 # Output power [W]\n",
    "Vdd = 12 # Supply voltage [V]\n",
    "Vcc = 3.3 # Gate driver voltage [V]\n",
    "\n",
    "# MOSFET parameters\n",
    "# IRLML2060TRPBF\n",
    "Qg = 0.67e-9 # Gate charge [C], from MOSFET datasheet\n",
    "Rds_on = 0.64 # On-resistance of the MOSFET [Ohm], from MOSFET datasheet\n",
    "\n",
    "# IRLML0060TRPBF\n",
    "Qg = 2.5e-9 # Gate charge [C], from MOSFET datasheet\n",
    "Rds_on = 0.116 # On-resistance of the MOSFET [Ohm], from MOSFET datasheet\n",
    "\n",
    "# Input impedance of the matching network (Infineon AN-1803, eq. 13)\n",
    "Z_tx_in = Vdd**2 / Pout # Input impedance of the matching network [Ohm]\n",
    "\n",
    "# L1min (Infineon AN-1803, eq. 13)\n",
    "L1_min = (math.pi**2 + 4) * Z_tx_in / f # [H]\n",
    "print(f\"L1min: {L1_min*1e6:.2f} uH\")\n",
    "\n",
    "# Maximum value for C1+Coss (Infineon AN-1803, eq. 20)\n",
    "C1_Coss = 0.1836 / (2*math.pi*f*Z_tx_in) # [F]\n",
    "print(f\"Maximum value for C1+Coss: {C1_Coss*1e12:.2f} pF\")\n",
    "\n",
    "# Breakdown voltage of the MOSFET (Infineon AN-1803, eq. 19)\n",
    "Vbr_dss = 3.56 * Vdd * 1.4 # [V], 40% safety margin\n",
    "print(f\"Breakdown voltage of the MOSFET: {Vbr_dss:.2f} V\")\n",
    "\n",
    "# Peak MOSFET current (Infineon AN-1803, eq. 22)\n",
    "I_rms = math.sqrt(Pout / Z_tx_in) # [A]\n",
    "I_peak = math.sqrt(2) * I_rms # [A]\n",
    "print(f\"Peak MOSFET current: {I_peak:.2f} A\")\n",
    "\n",
    "# MOSFET conduction losses (Infineon AN-1803, eq. 23)\n",
    "P_nmos = (I_rms/2)**2 * Rds_on # [W]\n",
    "print(f\"MOSFET conduction losses: {P_nmos:.2f} W\")\n",
    "\n",
    "# Gate driver losses (Infineon AN-1803, eq. 24)\n",
    "Pgate = Vcc * Qg * f # [W]\n",
    "print(f\"Gate driver losses: {Pgate:.2f} W\")"
   ]
  },
  {
   "cell_type": "markdown",
   "metadata": {},
   "source": [
    "# Transistor selection\n",
    "* FET-type : N-channel\n",
    "* Vdss > Vdd * 3.56 * 1.4 (safety factor) = 60V\n",
    "* Id > Id_max * 1.4 (safety factor) = 1.68A -> 2A (Id_max from simulation is 1.2A.)\n",
    "* Rds_on < 0.3 Ohm at Vgs = 4.5V and Id = 2A\n",
    "* Vgs < 2.5V\n",
    "* Qg < 4nC\n",
    "* Cost < €1\n",
    "* Availability : JLCPB\n",
    "* Package : SOT-23 or similar\n",
    "* Coss @ 10V < 160pF (Coss_max from simulation is << 160pF.)\n",
    "\n",
    "## Candidates\n",
    "| Part Number       | Coss [pF] | Vgs [V]     | Qg [nC]    | Rds_on [mOhm]  | Availability          |\n",
    "|-------------------|-----------|-------------|------------|----------------|-----------------------|\n",
    "| IRLML2060TRPBF    | 18        | 1.0-2.5     | 0.67       | 640            | JLCPCB : OK           |\n",
    "| IRLML0060TRPBF    | 50        | 1.0-2.5     | 2.5        | 116            | JLCPCB : OK           |\n",
    "| SQ2364EES-T1_GE3  | 40        | 0.46-1.0    | 2-2.5      | 245            | JLCPCB : OK           |\n",
    "| SI2324A           | 25        | 1.0-2.0     | 4          | 300            | JLCPCB : OK           |\n",
    "| RQ5L020SNTL       | 50        | 1.0-2.5     | 2.7        | -              | not available at JLCPCB|\n",
    "| RSR020N06         | 50        | 1.0-2.5     | 2.7        | -              | not available at JLCPCB|"
   ]
  },
  {
   "cell_type": "code",
   "execution_count": 26,
   "metadata": {},
   "outputs": [
    {
     "name": "stdout",
     "output_type": "stream",
     "text": [
      "Turn-on delay: 309.51 ps\n",
      "Turn-off delay: 218.59 ps\n",
      "Turn-off delay (alternative method): 261.32 ps\n"
     ]
    }
   ],
   "source": [
    "import math\n",
    "Vgs = 5 # Gate-source voltage [V]\n",
    "\n",
    "# IRLML0100\n",
    "Rg = 1.3 # Internal gate resistance [Ohm], add output resistance of the driver here\n",
    "Ciss = 290e-12 # Input capacitance [F], at Vds=0V (see datasheet, fig.5)\n",
    "Vth = 2.5 # Threshold voltage [V]\n",
    "Vgp = 2.8 # Miller plateau voltage [V] (it's the value of the horizontal line in the gate charge curves in the datasheet, fig.6)\n",
    "\n",
    "# Turn-on delay\n",
    "td_on = Rg * Ciss * math.log(Vgs/(Vgs-Vgp)) # t2, eq. 12 = t1 + t_ir = eq. 11 + eq. 17\n",
    "print(f\"Turn-on delay: {td_on*1e12:.2f} ps\")\n",
    "\n",
    "# Turn-off delay\n",
    "td_off = Rg * Ciss * math.log(Vgs/Vgp) # t4, eq. 14\n",
    "print(f\"Turn-off delay: {td_off*1e12:.2f} ps\")\n",
    "\n",
    "# Turn-off delay (alternative method)\n",
    "td_off = Rg * Ciss * math.log(Vgs/(Vth)) # t4 + t6, eq. 14 + eq. 16\n",
    "print(f\"Turn-off delay (alternative method): {td_off*1e12:.2f} ps\")"
   ]
  },
  {
   "cell_type": "markdown",
   "metadata": {},
   "source": [
    "## Inductor criteria\n",
    "Use smallest inductor value possible to minimize core loss.\n",
    "* DC resistance\n",
    "* AC resistance (skin effect, proximity effect)\n",
    "* core loss (frequency dependent) : iron powder core\n",
    "* RF-choke can be ferrite material\n",
    "\n",
    "## Gate driver\n",
    "* See Tru-SDX schematic for driver circuitry.\n",
    "* 74ABT : 4.5V-5.5V,  IOH / IOL = -32 / +64 mA\n",
    "* 74LVC : 1.65V-5.5V, IOH / IOL = -32 / +32 mA\n",
    "\n",
    "* 74LVC1G08SE-7 : AND-gate\n",
    "* 74LVC1G00SE-7 : NAND-gate"
   ]
  },
  {
   "cell_type": "markdown",
   "metadata": {},
   "source": [
    "# Protection circuitry\n",
    "* see Infineon AN_1803, fig. 29.\n",
    "* see [Class E Amplifiers, Dan Tayloe (N7VE)](http://norcalqrp.org/files/Class_E_Amplifiers.pdf)\n",
    "\n",
    "# References\n",
    "* [FesZ Electronics : Class E RF amplifier - Basics (1/3)](https://www.youtube.com/watch?v=Tgrakttus3c)\n",
    "* [Class-E power amplifier design for wireless power transfer, Infineon AN_1803_PL16_1803_210431](https://www.infineon.com/dgdl/Infineon-Wireless_power_transfer_class_E_power_amp-AN-v01_02-EN.pdf)"
   ]
  }
 ],
 "metadata": {
  "kernelspec": {
   "display_name": "Python 3",
   "language": "python",
   "name": "python3"
  },
  "language_info": {
   "codemirror_mode": {
    "name": "ipython",
    "version": 3
   },
   "file_extension": ".py",
   "mimetype": "text/x-python",
   "name": "python",
   "nbconvert_exporter": "python",
   "pygments_lexer": "ipython3",
   "version": "3.10.5"
  }
 },
 "nbformat": 4,
 "nbformat_minor": 2
}
